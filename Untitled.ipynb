{
 "cells": [
  {
   "cell_type": "code",
   "execution_count": 3,
   "id": "06a80534-61bf-4129-9983-266601c1f8a3",
   "metadata": {},
   "outputs": [],
   "source": [
    "from keras.models import load_model\n",
    "\n",
    "model=load_model('tumorr.keras')"
   ]
  },
  {
   "cell_type": "code",
   "execution_count": null,
   "id": "c35a4866-a019-451e-9e8d-7bc6aab5244e",
   "metadata": {},
   "outputs": [],
   "source": []
  }
 ],
 "metadata": {
  "kernelspec": {
   "display_name": "Python 3 (ipykernel)",
   "language": "python",
   "name": "python3"
  },
  "language_info": {
   "codemirror_mode": {
    "name": "ipython",
    "version": 3
   },
   "file_extension": ".py",
   "mimetype": "text/x-python",
   "name": "python",
   "nbconvert_exporter": "python",
   "pygments_lexer": "ipython3",
   "version": "3.10.7"
  }
 },
 "nbformat": 4,
 "nbformat_minor": 5
}
